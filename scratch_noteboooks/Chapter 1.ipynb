{
 "cells": [
  {
   "cell_type": "code",
   "execution_count": 1,
   "id": "37e8112d",
   "metadata": {},
   "outputs": [],
   "source": [
    "import numpy as np\n",
    "import matplotlib.pyplot as plt\n",
    "%matplotlib inline"
   ]
  },
  {
   "cell_type": "code",
   "execution_count": 2,
   "id": "88387ea6",
   "metadata": {},
   "outputs": [],
   "source": [
    "u = np.array([1.0,0.])\n",
    "p = 0.3\n",
    "q = 0.5\n",
    "P = np.array([[1-p,p],[q,1-q]])"
   ]
  },
  {
   "cell_type": "code",
   "execution_count": 3,
   "id": "6c4016b4",
   "metadata": {},
   "outputs": [
    {
     "data": {
      "text/plain": [
       "array([[0.49, 0.09],\n",
       "       [0.25, 0.25]])"
      ]
     },
     "execution_count": 3,
     "metadata": {},
     "output_type": "execute_result"
    }
   ],
   "source": []
  },
  {
   "cell_type": "code",
   "execution_count": 4,
   "id": "a20a7984",
   "metadata": {},
   "outputs": [],
   "source": [
    "ps = []\n",
    "t = 100\n",
    "for _ in range(t):\n",
    "    u = np.matmul()"
   ]
  },
  {
   "cell_type": "code",
   "execution_count": 5,
   "id": "b24bbc96",
   "metadata": {},
   "outputs": [
    {
     "data": {
      "text/plain": [
       "array([0.62500004, 0.37499996])"
      ]
     },
     "execution_count": 5,
     "metadata": {},
     "output_type": "execute_result"
    }
   ],
   "source": []
  },
  {
   "cell_type": "code",
   "execution_count": null,
   "id": "f61e0a2f",
   "metadata": {},
   "outputs": [],
   "source": []
  }
 ],
 "metadata": {
  "kernelspec": {
   "display_name": "venv-karpathy",
   "language": "python",
   "name": "venv-karpathy"
  },
  "language_info": {
   "codemirror_mode": {
    "name": "ipython",
    "version": 3
   },
   "file_extension": ".py",
   "mimetype": "text/x-python",
   "name": "python",
   "nbconvert_exporter": "python",
   "pygments_lexer": "ipython3",
   "version": "3.11.6"
  }
 },
 "nbformat": 4,
 "nbformat_minor": 5
}
